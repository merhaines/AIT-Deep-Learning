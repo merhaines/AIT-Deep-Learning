{
  "nbformat": 4,
  "nbformat_minor": 0,
  "metadata": {
    "kernelspec": {
      "display_name": "Python 3",
      "language": "python",
      "name": "python3"
    },
    "language_info": {
      "codemirror_mode": {
        "name": "ipython",
        "version": 3
      },
      "file_extension": ".py",
      "mimetype": "text/x-python",
      "name": "python",
      "nbconvert_exporter": "python",
      "pygments_lexer": "ipython3",
      "version": "3.6.6"
    },
    "colab": {
      "provenance": [],
      "include_colab_link": true
    }
  },
  "cells": [
    {
      "cell_type": "markdown",
      "metadata": {
        "id": "view-in-github",
        "colab_type": "text"
      },
      "source": [
        "<a href=\"https://colab.research.google.com/github/merhaines/AIT-Deep-Learning/blob/main/DL_Assessment_6.ipynb\" target=\"_parent\"><img src=\"https://colab.research.google.com/assets/colab-badge.svg\" alt=\"Open In Colab\"/></a>"
      ]
    },
    {
      "cell_type": "markdown",
      "metadata": {
        "id": "_jiGtJu6u9ml"
      },
      "source": [
        "# Copyright\n",
        "\n",
        "<PRE>\n",
        "Copyright (c) 2023 Bálint Gyires-Tóth - All Rights Reserved\n",
        "You may use and modify this code for research and development purpuses.\n",
        "Use this code for educational purposes (self-paced or instructor led) without the permission of the author is prohibited.\n",
        "</PRE>"
      ]
    },
    {
      "cell_type": "markdown",
      "metadata": {
        "id": "oXyFC44jV-PP"
      },
      "source": [
        "# Author classification\n",
        "The task is to train a 1D CNN or an LSTM that is able to  classify text from two authors. The final model should be able to tell about a text with a given length (e.g. 60 characters) who wrote it. \n",
        "\n",
        "Please write the codes according to the following parts:"
      ]
    },
    {
      "cell_type": "markdown",
      "metadata": {
        "id": "jCnLoeGrHXsp"
      },
      "source": [
        "## Python module imports\n",
        "Import all Python modules that you would need during the Assignment."
      ]
    },
    {
      "cell_type": "code",
      "metadata": {
        "id": "7itbFGt3HXVT"
      },
      "source": [
        "import numpy as np\n",
        "import requests\n",
        "from bs4 import BeautifulSoup\n",
        "import re\n",
        "from keras.preprocessing.text import Tokenizer\n",
        "from sklearn.model_selection import train_test_split\n",
        "from keras.models import Sequential\n",
        "from keras.layers import Embedding, LSTM, Dense\n",
        "from keras.callbacks import EarlyStopping"
      ],
      "execution_count": 1,
      "outputs": []
    },
    {
      "cell_type": "markdown",
      "metadata": {
        "id": "Hr617tEpHd8R"
      },
      "source": [
        "## Data acquisition\n",
        "Seek a possible dataset, you can use any source, e.g.\n",
        "* http://www.gutenberg.org/\n",
        "* https://www.kaggle.com/datasets\n",
        "* https://paperswithcode.com/datasets\n",
        "* if you would like to learn Hungarian, than e.g. https://mek.oszk.hu/\n",
        "\n",
        "You can download the text by hand (e.g. by copy-pasting some parts into txt files) or with Python. "
      ]
    },
    {
      "cell_type": "code",
      "metadata": {
        "id": "NgkdQxHqHdZB"
      },
      "source": [
        "raven_url = \"https://www.gutenberg.org/files/17192/17192-8.txt\"\n",
        "gatsby_url = \"https://www.gutenberg.org/files/64317/64317-0.txt\"\n",
        "\n",
        "raven_text = requests.get(raven_url).text\n",
        "gatsby_text = requests.get(gatsby_url).text"
      ],
      "execution_count": 2,
      "outputs": []
    },
    {
      "cell_type": "code",
      "source": [
        "# Sift through the texts\n",
        "def clean_text(text):\n",
        "    soup = BeautifulSoup(text, \"html.parser\")\n",
        "    text = soup.get_text()\n",
        "    text = re.sub(r'\\s+', ' ', text)\n",
        "    text = text.strip().lower()\n",
        "    return text\n",
        "\n",
        "raven_text = clean_text(raven_text)\n",
        "gatsby_text = clean_text(gatsby_text)\n",
        "\n",
        "# Combine the two texts\n",
        "combined_texts = [raven_text, gatsby_text]\n",
        "# 0 = raven, 1 = gatsby\n",
        "labels = [0, 1]  \n",
        "\n",
        "tokenizer = Tokenizer(char_level=True)\n",
        "tokenizer.fit_on_texts(combined_texts)\n",
        "alphabet_length = len(tokenizer.word_index)\n",
        "\n",
        "sequences = tokenizer.texts_to_sequences(combined_texts)"
      ],
      "metadata": {
        "id": "7RfOpjF2p_-F"
      },
      "execution_count": 3,
      "outputs": []
    },
    {
      "cell_type": "markdown",
      "source": [
        "## Data analysis\n",
        "Count the number of characters from both authors and display them on a plot (e.g. Seaborn's countplot)."
      ],
      "metadata": {
        "id": "U9Pmq91t3SRD"
      }
    },
    {
      "cell_type": "code",
      "source": [
        "import matplotlib.pyplot as plt\n",
        "import seaborn as sns\n",
        "\n",
        "# Count characters in each text\n",
        "num_chars_raven = len(raven_text)\n",
        "num_chars_gatsby = len(gatsby_text)\n",
        "\n",
        "# Display results on Seaborn countplot\n",
        "authors = ['Poe', 'Fitzgerald']\n",
        "char_counts = [num_chars_raven, num_chars_gatsby]\n",
        "\n",
        "sns.barplot(x=authors, y=char_counts)\n",
        "plt.ylabel('Number of Characters')\n",
        "plt.xlabel('Authors')\n",
        "plt.title('Text Character Count by Author')\n",
        "plt.show()"
      ],
      "metadata": {
        "id": "uRqGdn4F3Spk",
        "colab": {
          "base_uri": "https://localhost:8080/",
          "height": 472
        },
        "outputId": "18965805-b0cc-4ebb-e0a3-098259fa8e3d"
      },
      "execution_count": 4,
      "outputs": [
        {
          "output_type": "display_data",
          "data": {
            "text/plain": [
              "<Figure size 640x480 with 1 Axes>"
            ],
            "image/png": "[encoded data removed]"
          },
          "metadata": {}
        }
      ]
    },
    {
      "cell_type": "markdown",
      "metadata": {
        "id": "cHyE_ndGIblJ"
      },
      "source": [
        "## Data loading, labeling and preprocessing\n",
        "Load the data and convert the characters into one-hot encodings. Then load the data into a 3D NumPy array, with a shape of\n",
        "\n",
        "* (batch, sequence_length, alphabet_length)\n",
        "\n",
        "where sequence_length=60, and alphabet_length equals to the number of unique characters in both datasets. The sequences should be cut out from the complete dataset by sliding window. You should add 0 and 1 labels to the sequences, according to the author. \n",
        "\n",
        "Later you may change sequence_length to achieve better results!"
      ]
    },
    {
      "cell_type": "code",
      "metadata": {
        "id": "arooXt0WIb6x"
      },
      "source": [
        "def sliding_window(text, label, sequence_length):\n",
        "    num_sequences = len(text) - sequence_length + 1\n",
        "    X = np.zeros((num_sequences, sequence_length))\n",
        "    y = np.zeros((num_sequences, 1))\n",
        "\n",
        "    for i in range(num_sequences):\n",
        "        X[i, :] = text[i:i + sequence_length]\n",
        "        y[i] = label\n",
        "\n",
        "    return X, y\n",
        "\n",
        "# Generates labels for both authors\n",
        "sequence_length = 60\n",
        "\n",
        "X_raven, y_raven = sliding_window(sequences[0], labels[0], sequence_length)\n",
        "X_gatsby, y_gatsby = sliding_window(sequences[1], labels[1], sequence_length)\n",
        "\n",
        "X = np.concatenate([X_raven, X_gatsby], axis=0)\n",
        "y = np.concatenate([y_raven, y_gatsby], axis=0)"
      ],
      "execution_count": 5,
      "outputs": []
    },
    {
      "cell_type": "markdown",
      "metadata": {
        "id": "lL1Mc8ibHnep"
      },
      "source": [
        "## Data splitting\n",
        "Split the data into train, validate and test sets. Make "
      ]
    },
    {
      "cell_type": "code",
      "metadata": {
        "id": "ELyG9XFUHrkB"
      },
      "source": [
        "X_tokenized_train, X_tokenized_temp, y_train, y_temp = train_test_split(X, y, test_size=0.3, random_state=42)\n",
        "X_tokenized_val, X_tokenized_test, y_val, y_test = train_test_split(X_tokenized_temp, y_temp, test_size=0.5, random_state=42)"
      ],
      "execution_count": 6,
      "outputs": []
    },
    {
      "cell_type": "markdown",
      "metadata": {
        "id": "hA8U9tr7HrNQ"
      },
      "source": [
        "## Model definition\n",
        "Define a 1D CNN or an LSTM for the task. Compile the model with the correct loss function."
      ]
    },
    {
      "cell_type": "code",
      "metadata": {
        "id": "BT1V1s4kHuUe"
      },
      "source": [
        "def build_lstm_model(sequence_length, alphabet_length):\n",
        "    model = Sequential()\n",
        "    model.add(Embedding(alphabet_length + 1, 32, input_length=sequence_length))\n",
        "    model.add(LSTM(64, dropout=0.2, recurrent_dropout=0.2))\n",
        "    model.add(Dense(1, activation='sigmoid'))\n",
        "    return model\n",
        "\n",
        "model = build_lstm_model(sequence_length, alphabet_length)"
      ],
      "execution_count": 7,
      "outputs": []
    },
    {
      "cell_type": "markdown",
      "metadata": {
        "id": "hWFb-nAMHuAI"
      },
      "source": [
        "## Model training\n",
        "Train the model and apply early stopping."
      ]
    },
    {
      "cell_type": "code",
      "metadata": {
        "id": "dvgKjqp3Hwkp",
        "colab": {
          "base_uri": "https://localhost:8080/"
        },
        "outputId": "f1bc40aa-478b-4070-8045-8a3ac66970d4"
      },
      "source": [
        "model.compile(loss='binary_crossentropy', optimizer='adam', metrics=['accuracy'])\n",
        "\n",
        "early_stopping = EarlyStopping(monitor='val_loss', patience=3, restore_best_weights=True)\n",
        "\n",
        "history = model.fit(X_tokenized_train, y_train,\n",
        "                    validation_data=(X_tokenized_val, y_val),\n",
        "                    epochs=10, batch_size=512,\n",
        "                    callbacks=[early_stopping])"
      ],
      "execution_count": 9,
      "outputs": [
        {
          "output_type": "stream",
          "name": "stdout",
          "text": [
            "Epoch 1/10\n",
            "491/491 [==============================] - 237s 474ms/step - loss: 0.1942 - accuracy: 0.9064 - val_loss: 0.1853 - val_accuracy: 0.9070\n",
            "Epoch 2/10\n",
            "491/491 [==============================] - 231s 471ms/step - loss: 0.1878 - accuracy: 0.9080 - val_loss: 0.1770 - val_accuracy: 0.9094\n",
            "Epoch 3/10\n",
            "491/491 [==============================] - 230s 469ms/step - loss: 0.1811 - accuracy: 0.9108 - val_loss: 0.1658 - val_accuracy: 0.9160\n",
            "Epoch 4/10\n",
            "491/491 [==============================] - 239s 486ms/step - loss: 0.1744 - accuracy: 0.9124 - val_loss: 0.1586 - val_accuracy: 0.9179\n",
            "Epoch 5/10\n",
            "491/491 [==============================] - 228s 465ms/step - loss: 0.1669 - accuracy: 0.9161 - val_loss: 0.1487 - val_accuracy: 0.9219\n",
            "Epoch 6/10\n",
            "491/491 [==============================] - 229s 467ms/step - loss: 0.1600 - accuracy: 0.9178 - val_loss: 0.1373 - val_accuracy: 0.9274\n",
            "Epoch 7/10\n",
            "491/491 [==============================] - 228s 465ms/step - loss: 0.1519 - accuracy: 0.9215 - val_loss: 0.1297 - val_accuracy: 0.9292\n",
            "Epoch 8/10\n",
            "491/491 [==============================] - 230s 468ms/step - loss: 0.1449 - accuracy: 0.9253 - val_loss: 0.1220 - val_accuracy: 0.9336\n",
            "Epoch 9/10\n",
            "491/491 [==============================] - 228s 465ms/step - loss: 0.1388 - accuracy: 0.9275 - val_loss: 0.1249 - val_accuracy: 0.9306\n",
            "Epoch 10/10\n",
            "491/491 [==============================] - 229s 467ms/step - loss: 0.1327 - accuracy: 0.9303 - val_loss: 0.1097 - val_accuracy: 0.9384\n"
          ]
        }
      ]
    },
    {
      "cell_type": "markdown",
      "metadata": {
        "id": "0omw2XzSHwOo"
      },
      "source": [
        "## Evaluation on test data\n",
        "Evaluate the model on the test data in terms of loss and accuracy."
      ]
    },
    {
      "cell_type": "code",
      "metadata": {
        "id": "4bF3dQA1Hv_R",
        "colab": {
          "base_uri": "https://localhost:8080/"
        },
        "outputId": "a1095bdf-a747-43f1-e974-60b901e40b8f"
      },
      "source": [
        "loss, accuracy = model.evaluate(X_tokenized_test, y_test)\n",
        "print(f\"Test loss: {loss:.4f}, Test accuracy: {accuracy:.4f}\")"
      ],
      "execution_count": 10,
      "outputs": [
        {
          "output_type": "stream",
          "name": "stdout",
          "text": [
            "1682/1682 [==============================] - 21s 13ms/step - loss: 0.1071 - accuracy: 0.9396\n",
            "Test loss: 0.1071, Test accuracy: 0.9396\n"
          ]
        }
      ]
    },
    {
      "cell_type": "markdown",
      "metadata": {
        "id": "4Y73Q-h5Hz1r"
      },
      "source": [
        "## Confusion matrix\n",
        "Calculate and display the confusion matrix."
      ]
    },
    {
      "cell_type": "code",
      "metadata": {
        "id": "cW8zZi1uJm2B",
        "colab": {
          "base_uri": "https://localhost:8080/",
          "height": 490
        },
        "outputId": "6765ca9e-17a2-4395-81ae-28baf264bae0"
      },
      "source": [
        "from sklearn.metrics import confusion_matrix\n",
        "\n",
        "# Predict labels for the test data\n",
        "y_pred_proba = model.predict(X_tokenized_test)\n",
        "y_pred = np.round(y_pred_proba).astype(int)\n",
        "\n",
        "# Calculate the confusion matrix\n",
        "cm = confusion_matrix(y_test, y_pred)\n",
        "\n",
        "# Display the confusion matrix as a heatmap\n",
        "sns.heatmap(cm, annot=True, fmt='d', cmap='Blues', xticklabels=authors, yticklabels=authors)\n",
        "plt.xlabel('Predicted')\n",
        "plt.ylabel('True')\n",
        "plt.title('Confusion Matrix')\n",
        "plt.show()"
      ],
      "execution_count": 11,
      "outputs": [
        {
          "output_type": "stream",
          "name": "stdout",
          "text": [
            "1682/1682 [==============================] - 27s 16ms/step\n"
          ]
        },
        {
          "output_type": "display_data",
          "data": {
            "text/plain": [
              "<Figure size 640x480 with 2 Axes>"
            ],
            "image/png": "[encoded data removed]"
          },
          "metadata": {}
        }
      ]
    },
    {
      "cell_type": "code",
      "source": [],
      "metadata": {
        "id": "nAO4dxAYAqXY"
      },
      "execution_count": null,
      "outputs": []
    }
  ]
}